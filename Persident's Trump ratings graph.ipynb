{
 "cells": [
  {
   "cell_type": "markdown",
   "metadata": {},
   "source": [
    "The dataset consists of 3 variables:\n",
    "    \n",
    "|**Variables**    |**Explanation**|\n",
    "|:-----------------|:--------------|\n",
    "|`date`| date of the poll\n",
    "|`approval`| President's Trump approval rating\n",
    "|`disapproval`| President's Trump disapproval rating\n",
    "\n"
   ]
  },
  {
   "cell_type": "markdown",
   "metadata": {},
   "source": [
    "##  Persident's Trump daily approval ratings graph.\n"
   ]
  },
  {
   "cell_type": "code",
   "execution_count": 1,
   "metadata": {
    "ExecuteTime": {
     "end_time": "2020-10-01T01:46:30.665957Z",
     "start_time": "2020-10-01T01:46:29.052110Z"
    }
   },
   "outputs": [
    {
     "data": {
      "text/html": [
       "<div>\n",
       "<style scoped>\n",
       "    .dataframe tbody tr th:only-of-type {\n",
       "        vertical-align: middle;\n",
       "    }\n",
       "\n",
       "    .dataframe tbody tr th {\n",
       "        vertical-align: top;\n",
       "    }\n",
       "\n",
       "    .dataframe thead th {\n",
       "        text-align: right;\n",
       "    }\n",
       "</style>\n",
       "<table border=\"1\" class=\"dataframe\">\n",
       "  <thead>\n",
       "    <tr style=\"text-align: right;\">\n",
       "      <th></th>\n",
       "      <th>date</th>\n",
       "      <th>approve</th>\n",
       "      <th>disapprove</th>\n",
       "    </tr>\n",
       "  </thead>\n",
       "  <tbody>\n",
       "    <tr>\n",
       "      <th>1315</th>\n",
       "      <td>9/17/20</td>\n",
       "      <td>41.000000</td>\n",
       "      <td>53.500000</td>\n",
       "    </tr>\n",
       "    <tr>\n",
       "      <th>1316</th>\n",
       "      <td>9/18/20</td>\n",
       "      <td>46.000000</td>\n",
       "      <td>49.000000</td>\n",
       "    </tr>\n",
       "    <tr>\n",
       "      <th>1317</th>\n",
       "      <td>9/19/20</td>\n",
       "      <td>44.000000</td>\n",
       "      <td>52.000000</td>\n",
       "    </tr>\n",
       "    <tr>\n",
       "      <th>1318</th>\n",
       "      <td>9/20/20</td>\n",
       "      <td>40.750000</td>\n",
       "      <td>55.250000</td>\n",
       "    </tr>\n",
       "    <tr>\n",
       "      <th>1319</th>\n",
       "      <td>9/22/20</td>\n",
       "      <td>44.666667</td>\n",
       "      <td>49.666667</td>\n",
       "    </tr>\n",
       "  </tbody>\n",
       "</table>\n",
       "</div>"
      ],
      "text/plain": [
       "         date    approve  disapprove\n",
       "1315  9/17/20  41.000000   53.500000\n",
       "1316  9/18/20  46.000000   49.000000\n",
       "1317  9/19/20  44.000000   52.000000\n",
       "1318  9/20/20  40.750000   55.250000\n",
       "1319  9/22/20  44.666667   49.666667"
      ]
     },
     "execution_count": 1,
     "metadata": {},
     "output_type": "execute_result"
    }
   ],
   "source": [
    "import seaborn as sns\n",
    "import matplotlib.pyplot as plt\n",
    "import pandas as pd\n",
    "\n",
    "rating=pd.read_csv('TrumpRatings.csv')\n",
    "mydata=rating.copy()\n",
    "\n",
    "mydata.tail()\n"
   ]
  },
  {
   "cell_type": "code",
   "execution_count": 2,
   "metadata": {
    "ExecuteTime": {
     "end_time": "2020-10-01T01:46:30.756605Z",
     "start_time": "2020-10-01T01:46:30.669061Z"
    }
   },
   "outputs": [],
   "source": [
    "mydata['date']=pd.to_datetime(mydata['date'])\n",
    "mydata['year']=mydata['date'].dt.year\n",
    "annual_approval=mydata.groupby('year').agg({'approve':'mean'})\n",
    "app2017=annual_approval.loc[2017,'approve']\n",
    "app2018=annual_approval.loc[2018,'approve']\n",
    "app2019=annual_approval.loc[2019,'approve']\n",
    "app2020=annual_approval.loc[2020,'approve']\n",
    "\n"
   ]
  },
  {
   "cell_type": "code",
   "execution_count": 3,
   "metadata": {
    "ExecuteTime": {
     "end_time": "2020-10-01T01:46:30.763331Z",
     "start_time": "2020-10-01T01:46:30.758357Z"
    }
   },
   "outputs": [
    {
     "data": {
      "text/html": [
       "<div>\n",
       "<style scoped>\n",
       "    .dataframe tbody tr th:only-of-type {\n",
       "        vertical-align: middle;\n",
       "    }\n",
       "\n",
       "    .dataframe tbody tr th {\n",
       "        vertical-align: top;\n",
       "    }\n",
       "\n",
       "    .dataframe thead th {\n",
       "        text-align: right;\n",
       "    }\n",
       "</style>\n",
       "<table border=\"1\" class=\"dataframe\">\n",
       "  <thead>\n",
       "    <tr style=\"text-align: right;\">\n",
       "      <th></th>\n",
       "      <th>approve</th>\n",
       "    </tr>\n",
       "    <tr>\n",
       "      <th>year</th>\n",
       "      <th></th>\n",
       "    </tr>\n",
       "  </thead>\n",
       "  <tbody>\n",
       "    <tr>\n",
       "      <th>2017</th>\n",
       "      <td>39.130631</td>\n",
       "    </tr>\n",
       "    <tr>\n",
       "      <th>2018</th>\n",
       "      <td>40.855546</td>\n",
       "    </tr>\n",
       "    <tr>\n",
       "      <th>2019</th>\n",
       "      <td>41.092979</td>\n",
       "    </tr>\n",
       "    <tr>\n",
       "      <th>2020</th>\n",
       "      <td>41.903386</td>\n",
       "    </tr>\n",
       "  </tbody>\n",
       "</table>\n",
       "</div>"
      ],
      "text/plain": [
       "        approve\n",
       "year           \n",
       "2017  39.130631\n",
       "2018  40.855546\n",
       "2019  41.092979\n",
       "2020  41.903386"
      ]
     },
     "execution_count": 3,
     "metadata": {},
     "output_type": "execute_result"
    }
   ],
   "source": [
    "annual_approval"
   ]
  },
  {
   "cell_type": "code",
   "execution_count": 4,
   "metadata": {
    "ExecuteTime": {
     "end_time": "2020-10-01T01:46:31.025779Z",
     "start_time": "2020-10-01T01:46:30.765149Z"
    },
    "scrolled": false
   },
   "outputs": [
    {
     "data": {
      "text/plain": [
       "[<matplotlib.lines.Line2D at 0x7fd8e9d15eb0>]"
      ]
     },
     "execution_count": 4,
     "metadata": {},
     "output_type": "execute_result"
    },
    {
     "data": {
      "image/png": "[encoded data removed]",
      "text/plain": [
       "<Figure size 720x360 with 1 Axes>"
      ]
     },
     "metadata": {
      "needs_background": "light"
     },
     "output_type": "display_data"
    }
   ],
   "source": [
    "plt.figure(figsize=(10,5))\n",
    "sns.lineplot(data=mydata, x='date', y='approve',color='grey',alpha=0.3)\n",
    "plt.title(\"Persident Trump's Approval Rating\",\n",
    "         loc='center',\n",
    "         color = 'black',\n",
    "         pad = 20,\n",
    "         fontsize=12)\n",
    "plt.xlabel('date', fontsize=10)\n",
    "plt.ylabel('approve', fontsize=10)\n",
    "plt.gca().spines['top'].set_visible(False)\n",
    "plt.gca().spines['right'].set_visible(False)\n",
    "plt.ylim(30, 50)\n",
    "ytickpositions = list(range(30,52,2))\n",
    "yticklabels = [str(i)+'%' for i in range(30,52,2)]\n",
    "plt.yticks(ytickpositions,yticklabels)\n",
    "plt.plot(pd.to_datetime(['2017-01-01','2018-01-01']),[app2017,app2017],color='red')\n",
    "plt.plot(pd.to_datetime(['2018-01-01','2019-01-01']),[app2018,app2018],color='red')\n",
    "plt.plot(pd.to_datetime(['2019-01-01','2020-01-01']),[app2019,app2019],color='red')\n",
    "plt.plot(pd.to_datetime(['2020-01-01','2020-09-22']),[app2020,app2020],color='red')\n"
   ]
  },
  {
   "cell_type": "markdown",
   "metadata": {},
   "source": [
    "## the average monthy difference between Persident's Trump approval and disapproval ratings Graph since 2017.\n",
    "\n",
    "\n"
   ]
  },
  {
   "cell_type": "code",
   "execution_count": 5,
   "metadata": {
    "ExecuteTime": {
     "end_time": "2020-10-01T01:46:31.039958Z",
     "start_time": "2020-10-01T01:46:31.029963Z"
    }
   },
   "outputs": [],
   "source": [
    "mydata=mydata.assign(difference=mydata['disapprove']-mydata['approve'])"
   ]
  },
  {
   "cell_type": "code",
   "execution_count": 6,
   "metadata": {
    "ExecuteTime": {
     "end_time": "2020-10-01T01:46:31.051182Z",
     "start_time": "2020-10-01T01:46:31.041312Z"
    }
   },
   "outputs": [],
   "source": [
    "\n",
    "mydata['month']=mydata['date'].dt.month\n",
    "difference_avg=mydata.groupby(['year','month']).agg({'difference':'mean'}).reset_index().set_index('year')"
   ]
  },
  {
   "cell_type": "code",
   "execution_count": 7,
   "metadata": {
    "ExecuteTime": {
     "end_time": "2020-10-01T01:46:31.055331Z",
     "start_time": "2020-10-01T01:46:31.052559Z"
    }
   },
   "outputs": [
    {
     "name": "stdout",
     "output_type": "stream",
     "text": [
      "20.614032258387095 2.2399999990000006\n"
     ]
    }
   ],
   "source": [
    "max_value=difference_avg['difference'].max()\n",
    "min_value=difference_avg['difference'].min()\n",
    "print(max_value,min_value)"
   ]
  },
  {
   "cell_type": "code",
   "execution_count": 8,
   "metadata": {
    "ExecuteTime": {
     "end_time": "2020-10-01T01:46:31.223231Z",
     "start_time": "2020-10-01T01:46:31.057482Z"
    },
    "scrolled": false
   },
   "outputs": [
    {
     "data": {
      "text/plain": [
       "<matplotlib.patches.Polygon at 0x7fd8ea0dbb20>"
      ]
     },
     "execution_count": 8,
     "metadata": {},
     "output_type": "execute_result"
    },
    {
     "data": {
      "image/png": "[encoded data removed]",
      "text/plain": [
       "<Figure size 720x360 with 1 Axes>"
      ]
     },
     "metadata": {
      "needs_background": "light"
     },
     "output_type": "display_data"
    }
   ],
   "source": [
    "plt.figure(figsize=(10,5))\n",
    "sns.lineplot(data=difference_avg.loc[2017,],x='month',y='difference',color='grey',alpha=0.3)\n",
    "sns.lineplot(data=difference_avg.loc[2018,],x='month',y='difference',color='grey',alpha=0.3)\n",
    "sns.lineplot(data=difference_avg.loc[2019,],x='month',y='difference',color='grey',alpha=0.3)\n",
    "sns.lineplot(data=difference_avg.loc[2020,],x='month',y='difference',color='red')\n",
    "plt.title(\"Ratings Diff: Disapproval(%) - Approval(%)\",\n",
    "         color = 'black',\n",
    "         pad = 20)\n",
    "plt.gca().spines['top'].set_visible(False)\n",
    "plt.gca().spines['right'].set_visible(False)\n",
    "plt.ylabel('Ratings Diff', fontsize=10)\n",
    "plt.xlabel('', fontsize=10)\n",
    "xtickpositions = list(range(1,13))\n",
    "xticklabels = list(range(1,11))+[\"Election's\\nMonth\", 12]\n",
    "plt.xticks(xtickpositions,xticklabels)\n",
    "ytickpositions = list(range(0,25,5))\n",
    "yticklabels = ['0%','5%','10%','15%','20%']\n",
    "plt.yticks(ytickpositions,yticklabels)\n",
    "plt.annotate('2017',(12.1,19),fontsize=10, color='grey')\n",
    "plt.annotate('2018',(12.1,10),fontsize=10, color='grey')\n",
    "plt.annotate('2019',(12.1,11.2),fontsize=10, color='grey')\n",
    "plt.annotate('2020',(9,9.5),fontsize=10, color='red')\n",
    "plt.axvspan(10.5,11.5, color='green', alpha=0.3)"
   ]
  }
 ],
 "metadata": {
  "kernelspec": {
   "display_name": "Python 3",
   "language": "python",
   "name": "python3"
  },
  "language_info": {
   "codemirror_mode": {
    "name": "ipython",
    "version": 3
   },
   "file_extension": ".py",
   "mimetype": "text/x-python",
   "name": "python",
   "nbconvert_exporter": "python",
   "pygments_lexer": "ipython3",
   "version": "3.8.3"
  },
  "varInspector": {
   "cols": {
    "lenName": 16,
    "lenType": 16,
    "lenVar": 40
   },
   "kernels_config": {
    "python": {
     "delete_cmd_postfix": "",
     "delete_cmd_prefix": "del ",
     "library": "var_list.py",
     "varRefreshCmd": "print(var_dic_list())"
    },
    "r": {
     "delete_cmd_postfix": ") ",
     "delete_cmd_prefix": "rm(",
     "library": "var_list.r",
     "varRefreshCmd": "cat(var_dic_list()) "
    }
   },
   "types_to_exclude": [
    "module",
    "function",
    "builtin_function_or_method",
    "instance",
    "_Feature"
   ],
   "window_display": false
  }
 },
 "nbformat": 4,
 "nbformat_minor": 4
}
